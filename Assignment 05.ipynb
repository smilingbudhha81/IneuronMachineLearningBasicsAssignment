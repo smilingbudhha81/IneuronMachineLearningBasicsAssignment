{
 "cells": [
  {
   "cell_type": "markdown",
   "metadata": {},
   "source": [
    "# Assignment 05"
   ]
  },
  {
   "cell_type": "markdown",
   "metadata": {},
   "source": [
    "# 1. What are the key tasks that machine learning entails? What does data pre-processing imply?\n",
    "\n",
    "\n",
    "ANS = \n",
    "\n",
    "\n",
    "Key tasks under machine learning are\n",
    "\n",
    "Defining an objective\n",
    "Collection of data\n",
    "Data preprocessing\n",
    "Choose the model\n",
    "Train model\n",
    "Evaluate using performance\n",
    "Tune the hyperparameters for best performance\n",
    "Produce results\n",
    "Data Pre-processing includes steps to make data ready to be used for machine learning modeling. It includes, but is not limited to data cleaning, standardizing of keywords or headers, taking care of missing values and outliers."
   ]
  },
  {
   "cell_type": "markdown",
   "metadata": {},
   "source": [
    "# 2. Describe quantitative and qualitative data in depth. Make a distinction between the two.\n",
    "\n",
    "ANS = \n",
    "\n",
    "\n",
    "Quantitative\n",
    "Qualitative\n",
    "Quantitative Data Type: This Type Of Data Type Consists Of Numerical Values. Anything Which Is Measured By Numbers. E.G., Profit, Quantity Sold, Height, Weight, Temperature, Etc. This Is Again Of Two Types\n",
    "\n",
    "Discrete Data Type: – The Numeric Data Which Have Discrete Values Or Whole Numbers. This Type Of Variable Value If Expressed In Decimal Format Will Have No Proper Meaning. Their Values Can Be Counted. E.G.: – No. Of Cars You Have, No. Of Marbles In Containers, Students In A Class, Etc.\n",
    "\n",
    "Continuous Data Type: – The Numerical Measures Which Can Take The Value Within A Certain Range. This Type Of Variable Value If Expressed In Decimal Format Has True Meaning. Their Values Can Not Be Counted But Measured. The Value Can Be Infinite E.G.: Height, Weight, Time, Area, Distance, Measurement Of Rainfall, Etc.\n",
    "\n",
    "Qualitative Data Type: These Are The Data Types That Cannot Be Expressed In Numbers. This Describes Categories Or Groups And Is Hence Known As The Categorical Data Type. This Can Be Divided Into:-\n",
    "\n",
    "Structured Data: This Type Of Data Is Either Number Or Words. This Can Take Numerical Values But Mathematical Operations Cannot Be Performed On It. This Type Of Data Is Expressed In Tabular Format. E.G.) Sunny=1, Cloudy=2, Windy=3 Or Binary Form Data Like 0 Or1, Good Or Bad, Etc.\n",
    "\n",
    "Unstructured Data: This Type Of Data Does Not Have The Proper Format And Therefore Known As Unstructured Data.This Comprises Textual Data, Sounds, Images, Videos, Etc."
   ]
  },
  {
   "cell_type": "markdown",
   "metadata": {},
   "source": [
    "# 3. Create a basic data collection that includes some sample records. Have at least one attribute from each of the machine learning data types.\n",
    "\n",
    "ANS = \n",
    "\n",
    "\n"
   ]
  },
  {
   "cell_type": "code",
   "execution_count": 5,
   "metadata": {},
   "outputs": [
    {
     "data": {
      "text/plain": [
       "{'names': {'Akash, Deep, Sahoo'},\n",
       " 'marks': {70, 78, 87},\n",
       " 'date': {'November,2021'},\n",
       " 'grade': {'A', 'B'}}"
      ]
     },
     "execution_count": 5,
     "metadata": {},
     "output_type": "execute_result"
    }
   ],
   "source": [
    "input = {\"names\":{\"Akash, Deep, Sahoo\"},\"marks\":{87,78,70},\"date\":{\"November,2021\",\"November,2021\"},\"grade\":{\"A\",\"B\"}}\n",
    "input"
   ]
  },
  {
   "cell_type": "markdown",
   "metadata": {},
   "source": [
    "# 4. What are the various causes of machine learning data issues? What are the ramifications?\n",
    "\n",
    "ANS = \n",
    "\n",
    "\n",
    "Noisy data, dirty data, and incomplete data are the quintessential enemies of ideal Machine Learning. The solution to this conundrum is to take the time to evaluate and scope data with meticulous data governance, data integration, and data exploration until you get clear data. Ramifications or major issues in machine learning are:\n",
    "\n",
    "Five practical issues in machine learning and the business implications Data quality.\n",
    "Machine learning systems rely on data.\n",
    "The complexity and quality trade-off.\n",
    "Sampling bias in data.\n",
    "Changing expectations and concept drift.\n",
    "Monitoring and maintenance."
   ]
  },
  {
   "cell_type": "markdown",
   "metadata": {},
   "source": [
    "# 5. Demonstrate various approaches to categorical data exploration with appropriate examples.\n",
    "\n",
    "ANS = \n",
    "\n",
    "Various approaches to categorical data exploration are:\n",
    "\n",
    "1.Unique value count: One of the first things which can be useful during data exploration is to see how many unique values\n",
    "are there in categorical columns.\n",
    "\n",
    "2. Frequency Count: Frequency count is finding how frequent individual values occur in column.\n",
    "\n",
    "3. Variance: Variance gives a good indication how the values are spread.\n",
    "\n",
    "4. Pareto Analysis: Pareto analysis is a creative way of focusing on what is important. Pareto 80–20 rule can be effectively used in data exploration.\n",
    "\n",
    "5. Histogram: Histogram are one of the data scientists favourite data exploration techniques. It gives information on the range of values in which most of the values fall. It also gives information on whether there is any skew in data.\n",
    "\n",
    "6. Correlation Heat-map between all numeric columns: The term correlation refers to a mutual relationship or association between two things. \n",
    "\n",
    "7. Pearson Correlation and Trend between two numeric columns: Once you have visualised correlation heat-map , the next step is to see the correlation trend between two specific numeric columns. \n",
    "\n",
    "8. Outlier overview: Finding something unusual in data is called Outlier detection (also known as anomaly detection). These outliers represent something unusual, rare , anomaly or something exceptional.\n"
   ]
  },
  {
   "cell_type": "code",
   "execution_count": 9,
   "metadata": {},
   "outputs": [
    {
     "data": {
      "text/html": [
       "<div>\n",
       "<style scoped>\n",
       "    .dataframe tbody tr th:only-of-type {\n",
       "        vertical-align: middle;\n",
       "    }\n",
       "\n",
       "    .dataframe tbody tr th {\n",
       "        vertical-align: top;\n",
       "    }\n",
       "\n",
       "    .dataframe thead th {\n",
       "        text-align: right;\n",
       "    }\n",
       "</style>\n",
       "<table border=\"1\" class=\"dataframe\">\n",
       "  <thead>\n",
       "    <tr style=\"text-align: right;\">\n",
       "      <th></th>\n",
       "      <th>sepal.length</th>\n",
       "      <th>sepal.width</th>\n",
       "      <th>petal.length</th>\n",
       "      <th>petal.width</th>\n",
       "      <th>variety</th>\n",
       "    </tr>\n",
       "  </thead>\n",
       "  <tbody>\n",
       "    <tr>\n",
       "      <th>0</th>\n",
       "      <td>5.1</td>\n",
       "      <td>3.5</td>\n",
       "      <td>1.4</td>\n",
       "      <td>0.2</td>\n",
       "      <td>Iris-setosa</td>\n",
       "    </tr>\n",
       "    <tr>\n",
       "      <th>1</th>\n",
       "      <td>4.9</td>\n",
       "      <td>3.0</td>\n",
       "      <td>1.4</td>\n",
       "      <td>0.2</td>\n",
       "      <td>Iris-setosa</td>\n",
       "    </tr>\n",
       "    <tr>\n",
       "      <th>2</th>\n",
       "      <td>4.7</td>\n",
       "      <td>3.2</td>\n",
       "      <td>1.3</td>\n",
       "      <td>0.2</td>\n",
       "      <td>Iris-setosa</td>\n",
       "    </tr>\n",
       "    <tr>\n",
       "      <th>3</th>\n",
       "      <td>4.6</td>\n",
       "      <td>3.1</td>\n",
       "      <td>1.5</td>\n",
       "      <td>0.2</td>\n",
       "      <td>Iris-setosa</td>\n",
       "    </tr>\n",
       "    <tr>\n",
       "      <th>4</th>\n",
       "      <td>5.0</td>\n",
       "      <td>3.6</td>\n",
       "      <td>1.4</td>\n",
       "      <td>0.2</td>\n",
       "      <td>Iris-setosa</td>\n",
       "    </tr>\n",
       "  </tbody>\n",
       "</table>\n",
       "</div>"
      ],
      "text/plain": [
       "   sepal.length  sepal.width  petal.length  petal.width      variety\n",
       "0           5.1          3.5           1.4          0.2  Iris-setosa\n",
       "1           4.9          3.0           1.4          0.2  Iris-setosa\n",
       "2           4.7          3.2           1.3          0.2  Iris-setosa\n",
       "3           4.6          3.1           1.5          0.2  Iris-setosa\n",
       "4           5.0          3.6           1.4          0.2  Iris-setosa"
      ]
     },
     "execution_count": 9,
     "metadata": {},
     "output_type": "execute_result"
    }
   ],
   "source": [
    "import pandas as pd\n",
    "\n",
    "url = \"https://archive.ics.uci.edu/ml/machine-learning-databases/iris/iris.data\"\n",
    "names = ['sepal.length', 'sepal.width', 'petal.length', 'petal.width', 'variety']\n",
    "df = pd.read_csv(url, names=names)\n",
    "df.head()"
   ]
  },
  {
   "cell_type": "code",
   "execution_count": 7,
   "metadata": {},
   "outputs": [
    {
     "data": {
      "text/plain": [
       "count                150\n",
       "unique                 3\n",
       "top       Iris-virginica\n",
       "freq                  50\n",
       "Name: variety, dtype: object"
      ]
     },
     "execution_count": 7,
     "metadata": {},
     "output_type": "execute_result"
    }
   ],
   "source": [
    "df.variety.describe()\n"
   ]
  },
  {
   "cell_type": "code",
   "execution_count": 8,
   "metadata": {},
   "outputs": [
    {
     "data": {
      "text/plain": [
       "Text(0.5, 1.0, 'Frequency Plot')"
      ]
     },
     "execution_count": 8,
     "metadata": {},
     "output_type": "execute_result"
    },
    {
     "data": {
      "image/png": "[encoded data removed]",
      "text/plain": [
       "<Figure size 432x288 with 1 Axes>"
      ]
     },
     "metadata": {
      "needs_background": "light"
     },
     "output_type": "display_data"
    }
   ],
   "source": [
    "import seaborn as sns\n",
    "import matplotlib.pyplot as plt\n",
    "c=df.groupby('variety')['variety'].count() \n",
    "sns.barplot(x=c.index, y=c.values)\n",
    "plt.title(\"Frequency Plot\")"
   ]
  },
  {
   "cell_type": "markdown",
   "metadata": {},
   "source": [
    "# 6. How would the learning activity be affected if certain variables have missing values? Having said that, what can be done about it?\n",
    "\n",
    "ANS = \n",
    "\n",
    "\n",
    "Even in a Well-Designed & Controlled study, Missing data occurs in almost all research. Missing data can reduce the statistical power of a study and can produce biased estimates, leading to invalid conclusions.\n",
    "\n",
    "Real-world data collection has its own set of problems, It is often very messy which includes missing data, presence of outliers, unstructured manner, etc.\n",
    "\n",
    "\n",
    "Before looking for any insights from the data, we have to first perform preprocessing tasks which then only allow us to use that data for further observation and train our machine learning model.\n",
    "\n",
    "\n",
    "Missing value in a dataset is a very common phenomenon in the reality.\n",
    "\n",
    "Missing value correction is required to reduce bias and to produce powerful suitable models.\n",
    "\n",
    "Most of the algorithms can’t handle missing data, thus you need to act in some way to simply not let your code crash. So, let’s begin with the methods to solve the problem.\n",
    "\n",
    "Methods for dealing with missing values. The popular methods which are used by the machine learning community to handle the missing value for categorical variables in the dataset are as follows: Delete the observations: If there is a large number of observations in the dataset, where all the classes to be predicted are sufficiently represented in the training data, then try deleting the missing value observations, which would not bring significant change in your feed to your model.\n"
   ]
  },
  {
   "cell_type": "markdown",
   "metadata": {},
   "source": [
    "# 7. Describe the various methods for dealing with missing data values in depth.\n",
    "\n",
    "ANS = \n",
    "\n",
    "\n",
    "The Various Methods for dealing with missing data values are:\n",
    "\n",
    "Delete the observations: If there is a large number of observations in the dataset, where all the classes to be predicted are sufficiently represented in the training data, then try deleting the missing value observations, which would not bring significant change in your feed to your model. For Example Implement this method in a given dataset, we can delete the entire row which contains missing values.\n",
    "\n",
    "Replace missing values with the most frequent value: You can always impute them based on Mode in the case of categorical variables, just make sure you don’t have highly skewed class distributions.\n",
    "\n",
    "Develop a model to predict missing values: One smart way of doing this could be training a classifier over your columns with missing values as a dependent variable against other features of your data set and trying to impute based on the newly trained classifier."
   ]
  },
  {
   "cell_type": "markdown",
   "metadata": {},
   "source": [
    "# 8. What are the various data pre-processing techniques? Explain dimensionality reduction and function selection in a few words.\n",
    "\n",
    "ANS = \n",
    "\n",
    "\n",
    "*Assuming function selection as feature selection*\n",
    "\n",
    "Data Pre-Processing techniques:\n",
    "\n",
    "Data Cleaning\n",
    "\n",
    "Data Transformation\n",
    "\n",
    "Data Reduction\n",
    "\n",
    "Dimensionality Reduction and feature selection are both methods of reducing the number of features a machine learning model would be trained on, so that effective space time complexity of algorithms can be minimized. Dimensionality Reduction is a method which relies on converting the features into a lower dimension while feature selection relies on including only those features that will contribute most to the performance of a machine learning model. Examples of Dimensionality \n",
    "\n",
    "Reduction are PCA and t-SNE. Examples of feature selection are forward feature selection and backward feature selection.\n"
   ]
  },
  {
   "cell_type": "markdown",
   "metadata": {},
   "source": [
    "# 9.\n",
    "\n",
    "                i. What is the IQR? What criteria are used to assess it?\n",
    "\n",
    "                 ii. Describe the various components of a box plot in detail? When will the lower whisker    surpass the upper whisker in length? How can box plots be used to identify outliers\n",
    "                 \n",
    "ANS = \n",
    "\n",
    "\n",
    "What is the IQR? What criteria are used to assess it?\n",
    "\n",
    "Q1 is the first quartile of the data, i.e., to say 25% of the data lies between minimum and Q1.\n",
    "Q3 is the third quartile of the data, i.e., to say 75% of the data lies between minimum and Q3.\n",
    "The difference between Q3 and Q1 is called the Inter-Quartile Range or IQR.\n",
    "Describe the various components of a box plot in detail? When will the lower whisker surpass the upper whisker in length? How can box plots be used to identify outliers?\n",
    "\n",
    "\n",
    "\n",
    "minimum is the minimum value in the dataset\n",
    "maximum is the maximum value in the dataset.\n",
    "\n",
    "So the difference between the two tells us about the range of dataset.\n",
    "\n",
    "The median is the median (or centre point), also called second quartile, of the data (resulting from the fact that the data is ordered).\n",
    "\n",
    "Q1 is the first quartile of the data, i.e., to say 25% of the data lies between minimum and Q1.\n",
    "\n",
    "Q3 is the third quartile of the data, i.e., to say 75%\n",
    "\n",
    "When the data is left skewed, lower whisker will be longer than upper whisker.\n",
    "\n",
    "To detect the outliers this method is used, we define a new range, let’s call it decision range, and any data point lying outside this range is considered as outlier and is accordingly dealt with. The range is as given below:\n",
    "\n",
    "Lower Bound: (Q1 - 1.5 * IQR)Upper Bound: (Q3 + 1.5 * IQR)\n",
    "\n",
    "The difference between Q3 and Q1 is called the Inter-Quartile Range or IQR.\n"
   ]
  },
  {
   "cell_type": "markdown",
   "metadata": {},
   "source": [
    "# 10. Make brief notes on any two of the following:\n",
    "\n",
    "              1. Data collected at regular intervals\n",
    "\n",
    "               2. The gap between the quartiles\n",
    "\n",
    "               3. Use a cross-tab\n",
    "\n",
    "ANS = \n",
    "\n",
    "\n",
    "i. Data collected at regular intervals\n",
    "Data collection can be in many different forms. One of the probabilistic sampling techniques used in Statistics is Stratified sampling in which data is collected at regular intervals but with a random start. It is used for its simplicity.\n",
    "\n",
    "\n",
    "iii. Use a cross-tab\n",
    "Cross tabs or cross tabulation are only used to find relations between two categorical variables where one categorical variable value would be giving row data and the other variable would give column data. Several tests like the chi square test can help find relations based on the cross tab."
   ]
  },
  {
   "cell_type": "markdown",
   "metadata": {},
   "source": [
    "# 11. Make a comparison between:\n",
    "\n",
    "1. Data with nominal and ordinal values\n",
    "\n",
    "2. Histogram and box plot\n",
    "\n",
    "3. The average and median\n",
    "\n",
    "\n",
    "ANS = \n",
    "\n",
    "ii. Histogram and box plot\n",
    "Histograms are data visualizations used for continous quantitative data. Box Plots are data visualizations used for describing any quantitative data.\n",
    "\n",
    "Histograms are used for checking the distribution type. Box Plots are used for describing data in 5 point summary and detecting outliers in data.\n",
    "\n",
    "Granularity can be changed using bins in Histograms. Box Plots do no feature any control over granularity.\n",
    "\n",
    "iii. The average and median\n",
    "Average is a measure of numerical centrality of a distribution. Median is a measure of positional centrality of a distribution\n",
    "\n",
    "Average can also be referred to as the value that is closest to most number of values in a data. Median can also be referred to as the value which is exactly in the middle of a distribution.\n",
    "\n",
    "Averages are affected by presence of outliers. Medians are not affected by outliers.\n"
   ]
  }
 ],
 "metadata": {
  "kernelspec": {
   "display_name": "Python 3",
   "language": "python",
   "name": "python3"
  },
  "language_info": {
   "codemirror_mode": {
    "name": "ipython",
    "version": 3
   },
   "file_extension": ".py",
   "mimetype": "text/x-python",
   "name": "python",
   "nbconvert_exporter": "python",
   "pygments_lexer": "ipython3",
   "version": "3.8.5"
  }
 },
 "nbformat": 4,
 "nbformat_minor": 5
}
