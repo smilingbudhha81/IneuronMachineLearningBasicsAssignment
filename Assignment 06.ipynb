{
 "cells": [
  {
   "cell_type": "markdown",
   "metadata": {},
   "source": [
    "# Assignment 06"
   ]
  },
  {
   "cell_type": "markdown",
   "metadata": {},
   "source": [
    "# 1. In the sense of machine learning, what is a model? What is the best way to train a model?\n",
    "\n",
    "ANS = \n",
    "\n",
    " A Machine Learning Model is a file that has been trained to recognize certain types of patterns. You train a model over a set of data, providing it an algorithm that it can use to reason over and learn from those data.\n",
    "\n",
    "Model Naming — Give Your Model a Name, Let’s start with giving your model a name, describe your model and attach tags to your model. Tags are to make your model searchable.\n",
    "\n",
    "Data Type Selection — Choose data type(Images/Text/CSV), It’s time to tell us about the type of data you want to train your model. ML Models support Images, Text and *.CSV (categorical data) data types.\n",
    "\n",
    "Data Upload — Upload your data or choose from Public Data Sets: Choose from public datasets like Jewellery Data set (Images), Gender Data Set (Images), Question or Sentence Data Set (Text), Numerai Data Set (CSV) or upload your data.\n",
    "\n",
    "Type category(label) for the files (images/text file) that you have uploaded and click on submit to begin upload. Wait for some time till our web app uploads all the files. You can upload images for as many categories as possible.\n",
    "\n",
    "Start Training - Push the button, to start the training. Now Mateverse’s intelligent backend will start with processing the data that you have uploaded and preparing it for the training.\n"
   ]
  },
  {
   "cell_type": "markdown",
   "metadata": {},
   "source": [
    "# 2. In the sense of machine learning, explain the \"No Free Lunch\" theorem.\n",
    "\n",
    "ANS = \n",
    "\n",
    "In the sense of machine learning,\n",
    "No Free Lunch theorem means that under some constraints, \n",
    "performance of all optimization algorithms is similar or identical.\n",
    "\n",
    "In addition to that, no machine learning algorithm is the best. Since no single model is the best than the rest of the model always according to the theorem, we should rely on our knowledge of multiple machine learning algorithms and try a wide variety of algorithms to flush out the most optimal one.\n",
    "\n",
    "In Simple Words “No Free Lunch” theorem means we can’t rely on one model to be best of all models. We have to understand data properly and make use of ML understanding and make use of models to find best out of it.\n",
    "\n"
   ]
  },
  {
   "cell_type": "markdown",
   "metadata": {},
   "source": [
    "# 3. Describe the K-fold cross-validation mechanism in detail.\n",
    "\n",
    "ANS = \n",
    "\n",
    " In K-fold cross validation, data D is subset into k subsets randomly. Let us assume S1...Sk are the subsets where Sk is the kth randomly split subset of data D. In the first iteration, D-S1 is used for training and S1 for testing the model. When the model has been trained and tested, evaluation can be done, score is noted elsewhere and the trained model is discarded.\n",
    "\n",
    "These k-iterations go on where 1/k subset of D is always set aside for testing the data and D-1/k subsets are used for training, evaluating and discarding the model. At the end of all the iterations, average of all the evaluation scores is taken and used as output."
   ]
  },
  {
   "cell_type": "markdown",
   "metadata": {},
   "source": [
    "# 4. Describe the bootstrap sampling method. What is the aim of it?\n",
    "\n",
    "ANS = \n",
    "\n",
    "Boostrap sampling is a method of sampling in which the repeated sampling is done with replacement using a data D in random draws. Bootstrap sampling is often used to simulate sampling distributions instead of relying on theorems like the Central Limit Theorem.\n",
    "\n",
    "In Machine Learning, it is primarily used in ensemble models like Random Forest classifier. Its aim in Machine Learning use case is to avoid overfitting and improve stability of machine learning algorithms while improving performance."
   ]
  },
  {
   "cell_type": "markdown",
   "metadata": {},
   "source": [
    "# 5. What is the significance of calculating the Kappa value for a classification model? Demonstrate how to measure the Kappa value of a classification model using a sample collection of results.\n",
    "\n",
    "ANS = \n",
    "\n",
    "Kappa value or Cohen's Kappa coefficient is an evaluation metric for classification models. Its significance as an evaluation metric is that it can be used to evaluate multi class classification models and also works on models trained on imbalanced datasets(scores like accuracy scores fail for imbalanced datasets).\n",
    "\n",
    "In simpler words It basically tells you how much better your classifier is performing over the performance of a classifier that simply guesses at random according to the frequency of each class. Cohen's kappa is always less than or equal to 1. Values of 0 or less, indicate that the classifier is useless Cohen suggested the Kappa result be interpreted as follows: values ≤ 0 as indicating no agreement and 0.01–0.20 as none to slight, 0.21–0.40 as fair, 0.41– 0.60 as moderate, 0.61–0.80 as substantial, and 0.81–1.00 as almost perfect agreement."
   ]
  },
  {
   "cell_type": "markdown",
   "metadata": {},
   "source": [
    "# 6. Describe the model ensemble method. In machine learning, what part does it play?\n",
    "\n",
    "ANS = \n",
    "\n",
    "Ensemble methods or ensemble machine learning models are models where more than one models are being used spontaneously to produce better results than individually trained models.\n",
    "\n"
   ]
  },
  {
   "cell_type": "markdown",
   "metadata": {},
   "source": [
    "# 7. What is a descriptive model's main purpose? Give examples of real-world problems that descriptive models were used to solve.\n",
    "\n",
    "ANS = \n",
    "\n",
    "\n",
    "Main purpose of descriptive models is to find patterns and underlying trends. In machine learning, this is done mostly using unsupervised machine learning algorithms.\n",
    "\n",
    "Market analysis based on consumer's purchase data, Social media post engagement analysis and sales data are real world applications of descriptive models.\n",
    "\n"
   ]
  },
  {
   "cell_type": "markdown",
   "metadata": {},
   "source": [
    "# 8. Describe how to evaluate a linear regression model.\n",
    "\n",
    "ANS = \n",
    "\n",
    "Evaluation of a linear regression model can be done using R-square. R square is calculated as the sum of squared errors in predictions made, divided by summation of all sum of squares. R square measures how much of the change in target variable can be explained by the linear regressor. Its value ranges from 0 to 1 where 0 means poor performance and 1 means good. Some other techniques which can be used to evaluate a linear regression model are:\n",
    "\n",
    "Mean Square Error(MSE)/Root Mean Square Error(RMSE)\n",
    "Mean Absolute Error(MAE)\n"
   ]
  },
  {
   "cell_type": "markdown",
   "metadata": {},
   "source": [
    "# 9. Distinguish :\n",
    "\n",
    "1. Descriptive vs. predictive models\n",
    "\n",
    "2. Underfitting vs. overfitting the model\n",
    "\n",
    "3. Bootstrapping vs. cross-validation\n",
    "\n",
    "ANS = \n",
    "\n",
    "\n",
    "\n",
    "Descriptive vs. predictive models\n",
    "\n",
    "Descriptive models are built to identify trends and underlying patterns.\n",
    "\n",
    "Predictive models are built to predict a dependent variable value.\n",
    "\n",
    "Most of descriptive models are built using unsupervised machine learning.\n",
    "\n",
    "Most of predictive models are built using classification and regression models.\n",
    "\n",
    "Example for descriptive model: Finding why consumers are engaging more with a social media post.\n",
    "\n",
    "Example for predictive model: Predicting the chances of cancer in a patient.\n",
    "\n",
    "\n",
    "Underfitting vs. overfitting the model\n",
    "\n",
    "Underfitting is a situation arising when the hypothesis is way too simple, or when the machine learning model is way too \n",
    "simple to produce good results.\n",
    "\n",
    "Overfitting is a situation arising when the hypothesis is way too complex, or when the machine learning model is way too \n",
    "complex to produce good results.\n",
    "\n",
    "Underfitting causes a model to produce poor results due to heavily simplified algorithm reacting lightly to changes in the unseen data for independent variables from the training data.\n",
    "\n",
    "Overfitting makes a model produce poor results due to slightest variations in the unseen data for independent variables from the training data\n",
    "\n",
    "Underfitting is also called High Bias.Overfitting is also called High variance\n",
    "\n",
    "\n",
    "Bootstrapping vs cross-validation\n",
    "\n",
    "Boostrap sampling is a method of sampling in which the repeated sampling is done with replacement using a data D in random draws over which machine learning models are trained for better performance.\n",
    "\n",
    "Cross validation is a method used to check the efficacy of the machine learning model on test data.\n",
    "End goal of bootstrapping is to reduce overfitting and increase performance.\n",
    "\n",
    "End goal of cross validation is only to produce test scores to check efficacy of model\n",
    "Bootstrapping is best employed in Random Forest Classifier.\n",
    "\n",
    "Cross Validation is best employed using K-fold cross validation technique."
   ]
  },
  {
   "cell_type": "markdown",
   "metadata": {},
   "source": [
    "# 10. Make quick notes on:\n",
    "\n",
    "            1. LOOCV.\n",
    "\n",
    "            2. F-measurement\n",
    "\n",
    "            3. The width of the silhouette\n",
    "\n",
    "             4. Receiver operating characteristic curve\n",
    "\n",
    "\n",
    "i. LOOCV\n",
    "LOOCV or Leave One Out Cross Validation is a form of K-fold cross validation where only one observation is left out for validation purpose while the rest of the data is used for model training each iteration. It is computationally taxing and should only be used for data with low dimensionality.\n",
    "\n",
    "\n",
    "ii. F-measurement\n",
    "Harmonic mean of Precision score and recall score is called F-measurement or F-score. It is formulated as 2 * (pr * re)/pr +re where pr is precision score and re is recall score.\n",
    "\n",
    "\n",
    "iii. The width of the silhouette\n",
    "Estimate of average inter cluster distance to give efficacy/performance of cluster algorithms is called width of the silhouette. It can also be defined as how identical/similar a data point 'x' is to the data points inside the cluster to which x is assigned. Its value ranges from -1 to 1 where 1 means good and -1 means bad.\n",
    "\n",
    "\n",
    "iv. Receiver operating characteristic curve\n",
    "Curve plotted between True Positive Rate and False Positive Rate is Receiver Operating Characteristics curve and is used to find the area under the curve for ROC-AUC score for binary classification evaluation. True Positive Rate and False Positive Rate are calculated for different thresholds values where thresholds take values starting from the highest probability scores assigned to data points and goes up to the lowest probability score. The curve is impacted by presence of outliers, and simple models. Extensions can be made to this curve to suit multiclass classification evaluation requirements."
   ]
  }
 ],
 "metadata": {
  "kernelspec": {
   "display_name": "Python 3",
   "language": "python",
   "name": "python3"
  },
  "language_info": {
   "codemirror_mode": {
    "name": "ipython",
    "version": 3
   },
   "file_extension": ".py",
   "mimetype": "text/x-python",
   "name": "python",
   "nbconvert_exporter": "python",
   "pygments_lexer": "ipython3",
   "version": "3.8.5"
  }
 },
 "nbformat": 4,
 "nbformat_minor": 5
}
