{
 "cells": [
  {
   "cell_type": "markdown",
   "metadata": {},
   "source": [
    "# Assignment 03"
   ]
  },
  {
   "cell_type": "markdown",
   "metadata": {},
   "source": [
    "# 1.Explain the term machine learning, and how does it work? Explain two machine learning applications in the business world. What are some of the ethical concerns that machine learning applications could raise?\n",
    "\n",
    "\n",
    "ANS= \n",
    "\n",
    "\n",
    "Machine Learning is a form of artificial intelligence (AI) that teaches computers to think in a similar way to how humans do: Learning and improving upon past experiences. It works by exploring data and identifying patterns, and involves minimal human intervention.\n",
    "\n",
    "There are various applications in Business World :\n",
    "\n",
    "Real-time chatbot agents.\n",
    "Decision support.\n",
    "Customer recommendation engines.\n",
    "Customer churn modeling.\n",
    "Dynamic pricing tactics.\n",
    "Market research and customer segmentation.\n",
    "Fraud detection.\n",
    "Also there are some of the ethical concerns that ML applications could raise : AI presents three major areas of ethical concern for society: Privacy and surveillance, bias and discrimination, and perhaps the deepest, most difficult philosophical question of the era, the role of human judgment.\n",
    "a. Learning the overall sentiment of consumers regarding a product launched a while ago using their reviews on an e-commerce website using Natural Language Processing to understand how the product is faring in the market\n",
    "\n",
    "b. Using machine learning algorithms to cluster similar customers and provide them recommendations based on their history, on a streaming service platform."
   ]
  },
  {
   "cell_type": "markdown",
   "metadata": {},
   "source": [
    "# 2. Describe the process of human learning:\n",
    "           i. Under the supervision of experts\n",
    "\n",
    "           ii. With the assistance of experts in an indirect manner\n",
    "\n",
    "            iii. Self-education\n",
    "            \n",
    "\n",
    "ANS= \n",
    "\n",
    "\n",
    "Under the supervision of experts: Human-guided machine learning is a process whereby subject matter experts accelerate the learning process by teaching the technology in real-time. For example, if the machine learning model comes across a piece of data it is uncertain about, a human can be asked to weigh in and give feedback. The model then learns from this input, and uses it to make a more accurate prediction the next time. Human-guided machine learning works from the bottom up by first using algorithms to conduct the heavy lifting of identifying relationships within the data, and engaging humans when necessary for training or validation Concept Learning.\n",
    "\n",
    "With the assistance of experts in an indirect manner: Well The process of an algorithm learning from the training dataset can be thought of as a teacher supervising the learning process. We know the correct answers, the algorithm iteratively makes predictions on the training data and is corrected by the teacher. Learning stops when the algorithm achieves an acceptable level of performance Operant Conditioning.\n",
    "\n",
    "Self education: Ability to recognize patterns, learn from data, and become more intelligent over time (can be AI or programmatically based).Machine Learning: AI systems with ability to automatically learn and improve from experience without being explicitly programmed via training Hebbian Learning."
   ]
  },
  {
   "cell_type": "markdown",
   "metadata": {},
   "source": [
    "# 3. Provide a few examples of various types of machine learning.\n",
    "\n",
    "\n",
    "ANS= \n",
    "\n",
    "\n",
    "Example of Supervised Learning is text classification problems. In this set of problems, the goal is to predict the class label of a given piece of text. One particularly popular topic in text classification is to predict the sentiment of a piece of text, like a tweet or a product review,Image segmentation, Medical Diagnosis\n",
    "\n",
    "Example of Unsupervised Learning : Fraud detection, Malware detection, Anomaly detection, Clustering Analysis, Identification of human errors during data entry Conducting accurate basket analysis, etc.\n",
    "\n",
    "Example of Reinforcement Learning : Applications in self-driving cars, Industry automation : learning-based robots are used to perform various tasks.\n",
    "\n",
    "a. Supervised machine learning- Logistic Regression, Random Forest Classifier, Naive Bayes Classifier\n",
    "\n",
    "b. Unsupervised machine learning- Heirarchichal clustering, DBSCAN algorithm, K means and K medoids algorithms .\n",
    "\n",
    "c. Semi-supervised machine learning- Associative reinforcement learning, deep reinforcement learning."
   ]
  },
  {
   "cell_type": "markdown",
   "metadata": {},
   "source": [
    "# 4. Examine the various forms of machine learning.\n",
    "\n",
    "\n",
    "ANS= \n",
    "\n",
    "Supervised Learning\n",
    "Unsupervised Learning\n",
    "Reinforcement Learning.\n"
   ]
  },
  {
   "cell_type": "markdown",
   "metadata": {},
   "source": [
    "# 5. Can you explain what a well-posed learning problem is? Explain the main characteristics that must be present to identify a learning problem properly.\n",
    "\n",
    "\n",
    "ANS= \n",
    "\n",
    "\n",
    "\n",
    "If a machine learning model learns from certain type of actions that it can record, to do some specific task after evaluating itself using an evaluation metric, then it would be called a well posed learning problem\n",
    "\n",
    "The main characteristics that must be present are:\n",
    "\n",
    "a. A task that has to be done by the machine learning model\n",
    "\n",
    "b. An action that has to be recorded and learned from by the model\n",
    "\n",
    "c. Evaluation metric using which the efficacy of the machine learning model can be measured."
   ]
  },
  {
   "cell_type": "markdown",
   "metadata": {},
   "source": [
    "# 6. Is machine learning capable of solving all problems? Give a detailed explanation of your answer.\n",
    "\n",
    "\n",
    "ANS= \n",
    "\n",
    "\n",
    "Machine Learning probably can run into all problems for solving but lays down with some concerns which are:\n",
    "\n",
    "Ethics: The idea of trusting data and algorithms more than our own judgment has its pros and cons.Obviously, we benefit from these algorithms, otherwise, we wouldn’t be using them in the first place. These algorithms allow us to automate processes by making informed judgments using available data. Sometimes, however, this means replacing someone’s job with an algorithm, which comes with ethical ramifications.\n",
    "\n",
    "Deterministic Problem: Machine learning is stochastic, not deterministic. A neural network does not understand Newton’s second law, or that density cannot be negative — there are no physical constraints.\n",
    "\n",
    "Lack of Data: Many machine learning algorithms require large amounts of data before they begin to give useful results."
   ]
  },
  {
   "cell_type": "markdown",
   "metadata": {},
   "source": [
    "# 7. What are the various methods and technologies for solving machine learning problems? Any two of them should be defined in detail.\n",
    "\n",
    "\n",
    "ANS= \n",
    "\n",
    "The Various Technologies Used in Machine Learning Problems are: Scikit Learn, Pytorch, Tensorflow, Keras, Python.\n",
    "\n",
    "Scikit Learn: Scikit-learn (Sklearn) is the most useful and robust library for machine learning in Python. It provides a selection of efficient tools for machine learning and statistical modeling including classification, Regression, clustering and dimensionality reduction via a consistence interface in Python.\n",
    "Tensorflow: It is a open source artificial intelligence library, Using data flow graphs to build models. It allows developers to create large-scale neural networks with many layers. TensorFlow is mainly used for: Classification, Perception, Understanding, Discovering, Prediction and Creation.\n",
    "The Various Methods used in Machine Learning Problems are: Regression, Classification, Clustering, Dimensionality Reductio, Ensemble Methods, Neural Network, Deep Learning, Transfer Learning, Reinforcement Learning, Natural Language Processing, Word Embeddings.\n",
    "\n",
    "Regression methods fall within the category of supervised ML. They help to predict or explain a particular numerical value based on a set of prior data, for example predicting the price of a property based on previous pricing data for similar properties.\n",
    "\n",
    "Another class of supervised ML, classification methods predict or explain a class value. For example, they can help predict whether or not an online customer will buy a product. The output can be yes or no, buyer or not buyer. But classification methods aren’t limited to two classes. For example, a classification method could help to assess whether a given image contains a car or a truck. In this case, the output will be 3 different values:\n",
    "\n",
    "The image contains a car\n",
    "The image contains a truck\n",
    "The image contains neither a car nor a truck.\n"
   ]
  },
  {
   "cell_type": "markdown",
   "metadata": {},
   "source": [
    "# 8. Can you explain the various forms of supervised learning? Explain each one with an example application.\n",
    "\n",
    "\n",
    "ANS= \n",
    "\n",
    "\n",
    "\n",
    "Logistic Regression- It is a binary classification algorithm based on linear regression. A hyperplane is fit using a mathematical equation such that most of training data points are correctly classified into two class labels. Lambda is used as the hyperparameter. Lambda=0 would lead to overfitting and large lambda would lead to underfitting. Logistic Regression can be easily applied for classifying whether a voter would vote for BJP or Congress based on factors like number of visits by politicians, work done in their neighborhood etc.\n",
    "\n",
    "Decision Tree- It is a multi class classifier that creates multiple hyperplanes to funnel down the data points based on criteria and classify data points that pass certain threshold/criteria and do not. In a different sense, it creates up side down trees and keeps splitting data points for each criteria they pass and do not pass. Decision Tree is based on the concept of maximising the information gain from splitting the data points using criterias. Depth is the hyperparameter for Decision Trees and needs to be tuned. Large depths can lead to overfitting while small depths lead to underfitting. Classifying the data points using each passed criteria for Petal length, petal width, sepal length and sepal width can be done for IRIS dataset.\n",
    "\n",
    "K-NN- K nearest neighbors requires nearest instances or similar instances for a data point to be successfully classified. Normally, training data is learned for model generation. But, here training examples are stored. Distance function is used to find closest examples to an instance so that successful prediction can be made. K-NN can be used for recommendation systems where the input instance is checked for closest training example and then data point is classified into a group for which recommendations can be made.\n",
    "\n",
    "Linear Regression- It is a regression algorithm that tries to fit a straight line over data points in a 2-D plane where the two variables involved are highly correlated with each other and are independent and not collinear. Main idea is to keep the root mean squared error values(distances between the line to be fit and the training data points) minimum. An HR department of an organization can use the current experience of a professional they wish to interview, to get an idea about how much salary can be given to him/her as salaries are highly positively correlated with experience."
   ]
  },
  {
   "cell_type": "markdown",
   "metadata": {},
   "source": [
    "# 9. What is the difference between supervised and unsupervised learning? With a sample application in each region, explain the differences.\n",
    "\n",
    "\n",
    "ANS= \n",
    "\n",
    "\n",
    "Supervised earning algorithms are trained using labeled data. Unsupervised learning algorithms are trained using unlabeled data.In unsupervised learning, only input data is provided to the model.\n",
    "Examples:\n",
    "Supervised Learning : Classification and Regression.\n",
    "Unsuperised Learning : Clustering."
   ]
  },
  {
   "cell_type": "markdown",
   "metadata": {},
   "source": [
    "# 10. Describe the machine learning process in depth.\n",
    "a. Make brief notes on any two of the following:\n",
    "\n",
    "MATLAB is one of the most widely used programming languages.\n",
    "\n",
    "        ii. Deep learning applications in healthcare\n",
    "\n",
    "        iii. Study of the market basket\n",
    "\n",
    "         iv. Linear regression (simple)\n",
    "\n",
    "\n",
    "ANS= \n",
    "\n",
    "\n",
    "First step is to specify the problem statement we wish to solve\n",
    "\n",
    "Next, we collect data relevant to our problem statement. Data collection can be through webscraping, surveys, company records\n",
    "\n",
    "Data has to be cleaned and manipulated, null values removed or imputed. Cleaned data also needs to be split into training and test set so that it is usable by machine learning model for learning phase.\n",
    "\n",
    "We train the machine learning model over the collected and cleaned data. Training can be supervised or unsupervised, depending upon the problem statement and the availability of labeled data.\n",
    "\n",
    "Next, we test the trained machine learning model using performance metrics based on the type of problem we are solving and the algorithm we used. For Regression, we may use the R-squared value. For classification, we can use log losses, recall and precision scores etc. If unsupervised model is built, we might use the DB Index."
   ]
  },
  {
   "cell_type": "markdown",
   "metadata": {},
   "source": [
    "\n",
    "# 11. Make a comparison between:-\n",
    "\n",
    "         1. Generalization and abstraction\n",
    "\n",
    "          2. Learning that is guided and unsupervised\n",
    "\n",
    "          3. Regression and classification\n",
    "          \n",
    "\n",
    "ANS= \n",
    "\n",
    "\n",
    "The differences between among the given concepts is:\n",
    "\n",
    "Generalization and abstraction: Abstraction is the process of removing details of objects. And Generalization, then, is the formulation of general concepts from specific instances by abstracting common properties. A concrete object can be looked at as a “subset” of a more generalized object.\n",
    "\n",
    "Learning that is guided and Unsupervised: Supervised learning is the method that trains machines to use data that is well classified and labeled. Whereas Unsupervised learning, on the other hand, is the method that trains machines to use data that is neither classified nor labeled.\n",
    "\n",
    "Regression and classification:\n",
    "\n",
    "Classification Models – Classification models are used for problems where the output variable can be categorized, such as Yes or No, or Pass or Fail. Classification Models are used to predict the category of the data. Real-life examples include spam detection, sentiment analysis, scorecard prediction of exams, etc.\n",
    "\n",
    "Regression Models – Regression models are used for problems where the output variable is a real value such as a unique number, dollars, salary, weight or pressure, for example. It is most often used to predict numerical values based on previous data observations. Some of the more familiar regression algorithms include linear regression, logistic regression, polynomial regression, and ridge regression."
   ]
  }
 ],
 "metadata": {
  "kernelspec": {
   "display_name": "Python 3",
   "language": "python",
   "name": "python3"
  },
  "language_info": {
   "codemirror_mode": {
    "name": "ipython",
    "version": 3
   },
   "file_extension": ".py",
   "mimetype": "text/x-python",
   "name": "python",
   "nbconvert_exporter": "python",
   "pygments_lexer": "ipython3",
   "version": "3.8.5"
  }
 },
 "nbformat": 4,
 "nbformat_minor": 5
}
