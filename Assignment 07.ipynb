{
 "cells": [
  {
   "cell_type": "markdown",
   "metadata": {},
   "source": [
    "# Assignment 07"
   ]
  },
  {
   "cell_type": "markdown",
   "metadata": {},
   "source": [
    "# 1. What is the definition of a target function? In the sense of a real-life example, express the target function. How is a target function's fitness assessed?\n",
    "\n",
    "\n",
    "ANS = \n",
    "\n",
    "\n",
    "A target function, in machine learning, is a method for solving a problem that an AI algorithm parses its training data to find.The target function is essentially the formula that an algorithm feeds data to in order to calculate predictions.\n",
    "\n",
    "Analyzing the massive amounts of data related to its given problem, an AI derives understanding of previously unspecified rules by detecting consistencies in the data. The observations of inherent rules about how the studied subject operates inform the AI on how to process future data that does not include an output by applying this previously unknown function.\n",
    "\n",
    "Formulation by a machine learning algorithm which has been created using training data to predict target values based on independent variable input is called target function. It can also be called the method used to solve a problem statement, that has been created by an algorithm after training on training data.\n",
    "\n",
    "Ensemble models for credit card fraud detection produce a target function for multiple models after training phase. These target function are then used in real life to produce result or prediction based on the inputs they gets from the real world.\n",
    "\n",
    "A target function's fitness can be assessed using cross validation and evaluation metrics."
   ]
  },
  {
   "cell_type": "markdown",
   "metadata": {},
   "source": [
    "# 2. What are predictive models, and how do they work? What are descriptive types, and how do you use them? Examples of both types of models should be provided. Distinguish between these two forms of models.\n",
    "\n",
    "\n",
    "ANS = \n",
    "\n",
    "\n",
    "predictive modeling is a statistical technique using machine learning and data mining to predict and forecast likely future outcomes with the aid of historical and existing data.\n",
    "\n",
    "It works by analyzing current and historical data and projecting what it learns on a model generated to forecast likely outcomes.\n",
    "\n",
    "The three main types of descriptive studies are Case studies, Naturalistic observation, and Surveys.\n",
    "\n",
    "Some examples of descriptive research are: A specialty food group launching a new range of barbecue rubs would like to understand what flavors of rubs are favored by different people.\n",
    "\n",
    "Case Studies are a type of observational research that involve a thorough descriptive analysis of a single individual, group, or event. There is no single way to conduct a case study so researchers use a range of methods from unstructured interviewing to direct observation.\n",
    "\n",
    "\n",
    "Predictive models are machine learning models that use training data to train themselves and predict target value based on the independent variable input given to them. Prediction can be in the form of classification and regression. Example: Prediction of future salary based on experience can be done using Linear Regression.\n",
    "\n",
    "Descriptive models are built to identify trends and underlying patterns. Most of descriptive models are built using unsupervised machine learning. Groups can be created by clustering together individual data points using clustering machine learning models. When clustering is done, feature importance can be used to find the variables contributing most to the clustering and on the basis of that, a working theory or hypothesis can be made about underlying trends and patterns. Example: Clustering can be done using individuals from different countries to find underlying trend about differences in life expectancies and mortality rates."
   ]
  },
  {
   "cell_type": "markdown",
   "metadata": {},
   "source": [
    "# 3. Describe the method of assessing a classification model's efficiency in detail. Describe the various measurement parameters.\n",
    "\n",
    "\n",
    "ANS = \n",
    "\n",
    "After training the machine learning model on training data, it can be tested against test data. Its performance on this unseen data is measured using appropriate performance metric. Different performance metrics exist because a single metric cannot be used for measurement in all cases. For example, accuracy score can give misleading results if used on models trained and tested on imbalanced data.\n",
    "\n",
    "Logarithmic loss (or log loss) measures the performance of a classification model where the prediction is a probability value between 0 and 1.\n",
    "\n",
    "Log loss increases as the predicted probability diverge from the actual label. Log loss is a widely used metric for Kaggle competitions. Input on the most important basics for the measurement of the physical parameters: Temperature, flow velocity, humidity, pressure, CO2 and infrared. Tips on correct measurement and for avoiding measurement errors.\n",
    "\n",
    "Recall score: Defined as number of true positives divided by total actual positive points, recall score is used to measure sensitivity of a model. It can also be defined as correctly detected true positives out of all positive class points. It can only be used on binary classifiers.\n",
    "\n",
    "Precision score: Defined as number of true positives divided by summation of all true positives and false positives. In other words, of all the points model predicted positive how many were actually positive. It can only work on binary classifiers.\n",
    "\n",
    "Fl score: Defined as 2 * (pr * re)/(pr+re) where pr is precision score and re is recall score. Works only on binary classifiers.\n",
    "\n",
    "ROC_AUC score: Reciever Operating Characteristics-Area Under Curve score is derived from calculating the area under the curve plotted between True Positive Rate and False Positive Rate. True Positive Rate is simply recall score and False Positive Rate is total false positives divided by total number of actual negatives. ROC_AUC score ranges from 0 to 1 where 0 is bad and 1 is good. This score is impacted by models that are too simple. Extensions can be made to ROC_AUC score to make it capable of assessing multi class classifiers.\n",
    "\n",
    "Log Loss: Used for both binary classifier and multiclass classifier. Can only be used on models that are based on probability or produce probability scores to classify data points. Log loss should be as low as possible and close to 0. Range of Log loss is from 0 to +inf.\n"
   ]
  },
  {
   "cell_type": "markdown",
   "metadata": {},
   "source": [
    "# 4. \n",
    "      i. In the sense of machine learning models, what is underfitting? What is the most common reason for underfitting?\n",
    "     ii. What does it mean to overfit? When is it going to happen?\n",
    "    iii. In the sense of model fitting, explain the bias-variance trade-off.\n",
    "    \n",
    "\n",
    "ANS = \n",
    "\n",
    "In the sense of machine learning models, what is underfitting? What is the most common reason for underfitting:\n",
    "\n",
    "Underfitting is a scenario in data science where a data model is unable to capture the relationship between the input and output variables accurately, generating a high error rate on both the training set and unseen data.\n",
    "\n",
    "What does it mean to overfit? When is it going to happen\n",
    "\n",
    "Overfitting happens when a model learns the detail and noise in the training data to the extent that it negatively impacts the performance of the model on new data. This means that the noise or random fluctuations in the training data is picked up and learned as concepts by the model.\n",
    "\n",
    "In the sense of model fitting, explain the bias-variance trade-off\n",
    "\n",
    "The bias is known as the difference between the prediction of the values by the ML model and the correct value. Being high in biasing gives a large error in training as well as testing data. By high bias, the data predicted is in a straight line format, thus not fitting accurately in the data in the data set.\n"
   ]
  },
  {
   "cell_type": "markdown",
   "metadata": {},
   "source": [
    "# 5. Is it possible to boost the efficiency of a learning model? If so, please clarify how.\n",
    "\n",
    "\n",
    "ANS = \n",
    "\n",
    "\n",
    "Building a machine learning model is not enough to get the right predictions, as you have to check the accuracy and need to validate the same to ensure get the precise results. And validating the model will improve the performance of the ML model."
   ]
  },
  {
   "cell_type": "markdown",
   "metadata": {},
   "source": [
    "# 6. How would you rate an unsupervised learning model's success? What are the most common success indicators for an unsupervised learning model?\n",
    "\n",
    "\n",
    "ANS = \n",
    "\n",
    "Rating an unsupervised learning model's success can be done using several metrics that rely on calculating inter cluster, intra cluster distances, probabilistic measures etc.\n",
    "\n",
    "Most common indicators for an unsupervised learning model are silhouette width, Dunn index and Davies Bouldin index.\n"
   ]
  },
  {
   "cell_type": "markdown",
   "metadata": {},
   "source": [
    "# 7. Is it possible to use a classification model for numerical data or a regression model for categorical data with a classification model? Explain your answer.\n",
    "\n",
    "\n",
    "ANS = \n",
    "\n",
    "\n",
    " Categorical Data is the data that generally takes a limited number of possible values. Also, the data in the category need not be numerical, it can be textual in nature. All machine learning models are some kind of mathematical model that need numbers to work with. This is one of the primary reasons we need to pre-process the categorical data before we can feed it to machine learning models.\n",
    "\n",
    "If a categorical target variable needs to be encoded for a classification predictive modeling problem, then the LabelEncoder class can be used."
   ]
  },
  {
   "cell_type": "markdown",
   "metadata": {},
   "source": [
    "# 8. Describe the predictive modeling method for numerical values. What distinguishes it from categorical predictive modeling?\n",
    "\n",
    "\n",
    "ANS = \n",
    "\n",
    "predictive modeling is a statistical technique using machine learning and data mining to predict and forecast likely future outcomes with the aid of historical and existing data. It works by analyzing current and historical data and projecting what it learns on a model generated to forecast likely outcomes.\n",
    "\n",
    "Classification is the process of identifying the category or class label of the new observation to which it belongs.Predication is the process of identifying the missing or unavailable numerical data for a new observation. That is the key difference between classification and prediction.\n"
   ]
  },
  {
   "cell_type": "markdown",
   "metadata": {},
   "source": [
    "# 9. The following data were collected when using a classification model to predict the malignancy of a group of patients' tumors:\n",
    "         i. Accurate estimates – 15 cancerous, 75 benign\n",
    "         ii. Wrong predictions – 3 cancerous, 7 benign\n",
    "                Determine the model's error rate, Kappa value, sensitivity, precision, and F-measure.\n",
    "                \n",
    "\n",
    "ANS = \n",
    "\n",
    "The process of holding out:\n",
    "The hold-out method for training machine learning model is the process of splitting the data in different splits and using one split for training the model and other splits for validating and testing the models. The hold-out method is used for both model evaluation and model selection.\n",
    "\n",
    "Cross-validation by tenfold:\n",
    "10-fold cross validation would perform the fitting procedure a total of ten times, with each fit being performed on a training set consisting of 90% of the total training set selected at random, with the remaining 10% used as a hold out set for validation.\n",
    "\n",
    "Adjusting the parameters:\n",
    "A fancy name for training: the selection of parameter values, which are optimal in some desired sense (eg. minimize an objective function you choose over a dataset you choose). The parameters are the weights and biases of the network\n"
   ]
  },
  {
   "cell_type": "code",
   "execution_count": 9,
   "metadata": {},
   "outputs": [
    {
     "name": "stdout",
     "output_type": "stream",
     "text": [
      "0.1\n"
     ]
    }
   ],
   "source": [
    "Inaccurate_yes=3\n",
    "Inaccurate_no=7\n",
    "Actual_yes=22\n",
    "Actual_no=78\n",
    "error_rate=(Inaccurate_yes+Inaccurate_no)/(Actual_yes+Actual_no)\n",
    "print(error_rate)"
   ]
  },
  {
   "cell_type": "code",
   "execution_count": 10,
   "metadata": {},
   "outputs": [
    {
     "name": "stdout",
     "output_type": "stream",
     "text": [
      "0.9 0.198 0.07800000000000001\n"
     ]
    }
   ],
   "source": [
    "agreed=(15+75)/100\n",
    "pyes=((15+7)/100)*((15+75)/100)\n",
    "pno=((3+75)/100)*((3+7)/100)\n",
    "print(agreed,pyes,pno)\n"
   ]
  },
  {
   "cell_type": "code",
   "execution_count": 11,
   "metadata": {},
   "outputs": [
    {
     "name": "stdout",
     "output_type": "stream",
     "text": [
      "0.09999999999999998\n",
      "0.724\n"
     ]
    }
   ],
   "source": [
    "non_dis = pyes+pno\n",
    "print(1-agreed)\n",
    "print(1-non_dis)\n"
   ]
  },
  {
   "cell_type": "code",
   "execution_count": 12,
   "metadata": {},
   "outputs": [
    {
     "name": "stdout",
     "output_type": "stream",
     "text": [
      "0.861878453038674\n"
     ]
    }
   ],
   "source": [
    "k=1-(0.09999999999999998/0.724)\n",
    "print(k) #Kappa value"
   ]
  },
  {
   "cell_type": "code",
   "execution_count": 13,
   "metadata": {},
   "outputs": [
    {
     "name": "stdout",
     "output_type": "stream",
     "text": [
      "0.6818181818181818\n"
     ]
    }
   ],
   "source": [
    "re=(15/(15+7)) # Sensitivity Score\n",
    "print(re)"
   ]
  },
  {
   "cell_type": "code",
   "execution_count": 14,
   "metadata": {},
   "outputs": [
    {
     "name": "stdout",
     "output_type": "stream",
     "text": [
      "0.8333333333333334\n"
     ]
    }
   ],
   "source": [
    "pr=(15/(15+3)) #Precision Score\n",
    "print(pr)"
   ]
  },
  {
   "cell_type": "code",
   "execution_count": 15,
   "metadata": {
    "scrolled": true
   },
   "outputs": [
    {
     "name": "stdout",
     "output_type": "stream",
     "text": [
      "0.7499999999999999\n"
     ]
    }
   ],
   "source": [
    "print(2*((pr*re)/(pr+re))) # F1 score\n"
   ]
  },
  {
   "cell_type": "markdown",
   "metadata": {},
   "source": [
    "# 10. Make quick notes on:\n",
    "         1. The process of holding out\n",
    "         2. Cross-validation by tenfold\n",
    "         3. Adjusting the parameters\n",
    "         \n",
    "         \n",
    "\n",
    "ANS = \n",
    "\n",
    "Purity vs Silhouette width:\n",
    "\n",
    "Purity is a measure of the extent to which clusters contain a single class. Its calculation can be thought of as follows: For each cluster, count the number of data points from the most common class in said cluster.\n",
    "The silhouette width is also an estimate of the average distance between clusters. Its value is comprised between 1 and -1 with a value of 1 indicating a very good cluster.\n",
    "Boosting vs. Bagging:\n",
    "\n",
    "Bagging is a way to decrease the variance in the prediction by generating additional data for training from dataset using combinations with repetitions to produce multi-sets of the original data.\n",
    "Boosting is an iterative technique which adjusts the weight of an observation based on the last classification.\n",
    "The eager learner vs. the lazy learner:\n",
    "\n",
    "A lazy learner delays abstracting from the data until it is asked to make a prediction.\n",
    "while an eager learner abstracts away from the data during training and uses this abstraction to make predictions rather than directly compare queries with instances in the dataset.\n"
   ]
  },
  {
   "cell_type": "markdown",
   "metadata": {},
   "source": [
    "# 11. Define the following terms: \n",
    "         1. Purity vs. Silhouette width\n",
    "         2. Boosting vs. Bagging\n",
    "         3. The eager learner vs. the lazy learner# 1. What is the definition of a target function? In the sense of a real-life example, express the target function. How is a target function's fitness assessed?\n",
    "         \n",
    "         \n",
    "\n",
    "ANS = \n",
    "\n",
    "\n",
    "i. Purity vs. Silhouette width\n",
    "Purity is an external metric for measuring performance of clusters. It can be defined as the number of data points that were classified correctly into clusters.\n",
    "\n",
    "Estimate of average inter cluster distance to give efficacy/performance of cluster algorithms is called width of the silhouette. Its value ranges from -1 to 1 where 1 means good and -1 means bad.\n",
    "\n",
    "ii. Boosting vs. Bagging\n",
    "Boosting is one of the ensemble machine learning modelling techniques in which, multiple base learners are trained in series over training data. Base learners are added to overcome the errors in previously added and trained base learners, until the entire training data has been correctly predicted. It reduces bias.\n",
    "\n",
    "Bagging is one of the ensemble machine learning modelling techniques in which, multiple base learners are trained in parallel over subsets of training data, sampled with replacement. All base learners produce a prediction and after a majority vote over the prediction, final value is output as the result. It reduces variance without impacting bias.\n",
    "\n",
    "iii. The eager learner vs. the lazy learner\n",
    "Eager learner algorithms are ones that generate a generalizable target function during the training phase. Unlike lazy learners where the computation over data is deferred until a new instance or query is input after which comparison between stored examples and query takes place, eager learners use the target function generated during training phase to generate the result for a new query. Example: Logistic Regression.\n",
    "\n",
    "Lazy learner or lazy learning algorithms, also called instance based learning algorithms are the ones which use stored instances seen during training phase of the model and then compare new instances with the stored instances to produce a result or prediction. These algorithms are called lazy learners because the actual operations or processing over data happens only when the trained model gets new instance for which a result has to be output. Example: K-Nearest Neighbor algorithm."
   ]
  }
 ],
 "metadata": {
  "kernelspec": {
   "display_name": "Python 3",
   "language": "python",
   "name": "python3"
  },
  "language_info": {
   "codemirror_mode": {
    "name": "ipython",
    "version": 3
   },
   "file_extension": ".py",
   "mimetype": "text/x-python",
   "name": "python",
   "nbconvert_exporter": "python",
   "pygments_lexer": "ipython3",
   "version": "3.8.5"
  }
 },
 "nbformat": 4,
 "nbformat_minor": 5
}
