{
 "cells": [
  {
   "cell_type": "markdown",
   "metadata": {},
   "source": [
    "# Assignment 04"
   ]
  },
  {
   "cell_type": "markdown",
   "metadata": {},
   "source": [
    "# 1. What are the key tasks involved in getting ready to work with machine learning modeling?\n",
    "\n",
    "\n",
    "ANS =\n",
    "\n",
    "\n",
    "The Key Tasks involved in getting ready to work with Machine learning Modelling are:\n",
    "\n",
    "Data collection: Defining the problem and assembling a dataset.\n",
    "Data preparation: Preparing your data.\n",
    "Choosing a Model\n",
    "Training the Model: Developing a model that does better than a baseline.\n",
    "Evaluating the Model: Choosing a measure of success. Deciding on an evaluation protocol.\n",
    "Parameter tuning: Scaling up: developing a model that overfits.Regularizing your model and tuning your parameters.\n",
    "Prediction or Inference."
   ]
  },
  {
   "cell_type": "markdown",
   "metadata": {},
   "source": [
    "# 2. What are the different forms of data used in machine learning? Give a specific example for each of them.\n",
    "\n",
    "\n",
    "ANS =\n",
    "\n",
    "\n",
    "\n",
    "Qualitative data - One that does not necessarily have an order to it and is categorical in nature. For example, in IRIS dataset, the qualitative data would be the variety having class labels or categories Virginicolor, Setosa and Versicolor\n",
    "\n",
    "Quantitative data - One that has an order to it and is numerical in nature. For example, Petal length in IRIS dataset is a quantitative data.\n",
    "\n",
    "Time series data - Time series data is one that has time based data. For example, Any covid-19 based data will have date time against infections, death etc. because time plays an important role in Covid analysis in finding the spread rate etc.\n",
    "\n",
    "Text based data - String based data that are generally remarks, comments or reviews, used for Natural Language Processing."
   ]
  },
  {
   "cell_type": "markdown",
   "metadata": {},
   "source": [
    "# 3. Distinguish:\n",
    "\n",
    "           1. Numeric vs. categorical attributes\n",
    "\n",
    "            2. Feature selection vs. dimensionality reduction\n",
    "\n",
    "\n",
    "ANS =\n",
    "\n",
    "\n",
    "Numeric vs. categorical attributes:\n",
    "\n",
    "Numerical data are values obtained for quantitative variable, and carries a sense of magnitude related to the context of the variable (hence, they are always numbers or symbols carrying a numerical value).\n",
    "\n",
    "Categorical data are values obtained for a qualitative variable. categorical data numbers do not carry a sense of magnitude.\n",
    "\n",
    "Numerical data always belong to either ordinal, ratio, or interval type, whereas categorical data belong to nominal type.\n",
    "\n",
    "Methods used to analyse quantitative data are different from the methods used for categorical data, even if the principles are the same at least the application has significant differences.\n",
    "\n",
    "Numerical data are analysed using statistical methods in descriptive statistics, regression, time series and many more.For categorical data usually descriptive methods and graphical methods are employed. Some non-parametric tests are also used.\n",
    "\n",
    "Feature selection vs. dimensionality reduction:\n",
    "\n",
    "Feature selection you just select a subset of the original feature set, without any manipulation of the data on the other hand.\n",
    "\n",
    "Dimensionality reduction is typically choosing a new representation within which you can describe most but not all of the variance within your data, thereby retaining the relevant information, while reducing theamount of information necessary to represent it."
   ]
  },
  {
   "cell_type": "markdown",
   "metadata": {},
   "source": [
    "# 4. Make quick notes on any two of the following:\n",
    "\n",
    "            1. The histogram\n",
    "\n",
    "             2. Use a scatter plot\n",
    "\n",
    "              3.PCA (Personal Computer Aid)\n",
    "\n",
    "\n",
    "\n",
    "ANS =\n",
    "\n",
    "\n",
    "# The histogram: \n",
    "A Histogram is a graphical representation that organizes a group of data points into user-specified ranges. Similar in appearance to a bar graph, the histogram condenses a data series into an easily interpreted visual by taking many data points and grouping them into logical ranges or bins.\n",
    "\n",
    "# Use a scatter plot: \n",
    "A scatter plot (aka scatter chart, scatter graph) uses dots to represent values for two different numeric variables. The position of each dot on the horizontal and vertical axis indicates values for an individual data point. Scatter plots are used to observe relationships between variables.\n",
    "\n",
    "# PCA (Personal Computer Aid): \n",
    "Principal Component Analysis or PCA is a widely used technique for dimensionality reduction of the large data set. Reducing the number of components or features costs some accuracy and on the other hand, it makes the large data set simpler, easy to explore and visualize."
   ]
  },
  {
   "cell_type": "markdown",
   "metadata": {},
   "source": [
    "# 5. Why is it necessary to investigate data? Is there a discrepancy in how qualitative and quantitative data are explored?\n",
    "\n",
    "\n",
    "ANS =\n",
    "\n",
    "\n",
    "Investigation of data is important to find trends, note interesting points, find errors and missing values and outliers that may require remedy. \n",
    "\n",
    "Quantitative data exploration requires numbers recieved from observation and experiment.\n",
    "\n",
    "Qualitative data exploration is different as most of it hinges on frequency table to formulate observations.\n",
    "\n"
   ]
  },
  {
   "cell_type": "markdown",
   "metadata": {},
   "source": [
    "# 6. What are the various histogram shapes? What exactly are ‘bins'?\n",
    "\n",
    "\n",
    "ANS =\n",
    "\n",
    "1.Uniform Histogram\n",
    "\n",
    "2.Symmetric Histogram\n",
    "\n",
    "3.Bimodal Histogram\n",
    "\n",
    "4.Probability Histogram.\n",
    "\n",
    "The bin in a histogram is the choice of unit and spacing on the X-axis. \n",
    "\n",
    "All the data in a probability distribution represented visually by a histogram is filled into the corresponding bins. \n",
    "\n",
    "The height of each bin is a measurement of the frequency with which data appears inside the range of that bin in the distribution.\n"
   ]
  },
  {
   "cell_type": "markdown",
   "metadata": {},
   "source": [
    "# 7. How do we deal with data outliers?\n",
    "\n",
    "\n",
    "ANS =\n",
    "\n",
    "\n",
    "Univariate Method: This method looks for data points with extreme values on one variable.\n",
    "\n",
    "Multivariate Method: Here, we look for unusual combinations of all the variables.\n",
    "\n",
    "Minkowski Error: This method reduces the contribution of potential outliers in the training process.\n",
    "\n",
    "Z-Score: This can be done with just one line code as we have already calculated the Z-score.\n",
    "boston_df_o = boston_df_o[(z < 3).all(axis=1)]\n",
    "\n",
    "IQR Score: Calculate IQR score to filter out the outliers by keeping only valid values.\n",
    "boston_df_out = boston_df_o1[~((boston_df_o1 < (Q1 - 1.5 * IQR)) |(boston_df_o1 > (Q3 + 1.5 *IQR))).any(axis=1)]\n",
    "boston_df_out.shape\n",
    "\n",
    "Quantile function: Use quantile() to remove amount of data."
   ]
  },
  {
   "cell_type": "markdown",
   "metadata": {},
   "source": [
    "# 8. What are the various central inclination measures? Why does mean vary too much from median in certain data sets?\n",
    "\n",
    "\n",
    "ANS =\n",
    "\n",
    "\n",
    "Central tendency measures are of primarily 2 types\n",
    "\n",
    "numeric averages - Arithmetic mean, geometric mean, harmonic mean\n",
    "\n",
    "and positional averages - median and mode\n",
    "\n",
    "Mean can vary too much from median if the data has extremities or outliers."
   ]
  },
  {
   "cell_type": "markdown",
   "metadata": {},
   "source": [
    "# 9. Describe how a scatter plot can be used to investigate bivariate relationships. Is it possible to find outliers using a scatter plot?\n",
    "\n",
    "\n",
    "ANS =\n",
    "\n",
    "\n",
    " A Scatter Plot (aka scatter chart, scatter graph) uses dots to represent values for two different numeric variables. \n",
    " \n",
    " The position of each dot on the horizontal and vertical axis indicates values for an individual data point.\n",
    " \n",
    " So this visualization gives us the idea of bivariate relationship.\n",
    "\n",
    "Scatter plot can also help finding outliers as outliers can be visualized at farther distance than regular data."
   ]
  },
  {
   "cell_type": "markdown",
   "metadata": {},
   "source": [
    "# 10. Describe how cross-tabs can be used to figure out how two variables are related.\n",
    "\n",
    "\n",
    "ANS =\n",
    "\n",
    "Cross tabs or cross tabulation are only used to find relations between two categorical variables where one categorical variable value would be giving row data and the other variable would give column data.\n",
    "\n",
    "Several tests like the chi square test can help find relations based on the cross tab."
   ]
  }
 ],
 "metadata": {
  "kernelspec": {
   "display_name": "Python 3",
   "language": "python",
   "name": "python3"
  },
  "language_info": {
   "codemirror_mode": {
    "name": "ipython",
    "version": 3
   },
   "file_extension": ".py",
   "mimetype": "text/x-python",
   "name": "python",
   "nbconvert_exporter": "python",
   "pygments_lexer": "ipython3",
   "version": "3.8.5"
  }
 },
 "nbformat": 4,
 "nbformat_minor": 5
}
